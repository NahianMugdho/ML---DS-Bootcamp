{
 "cells": [
  {
   "cell_type": "markdown",
   "id": "6c251656",
   "metadata": {},
   "source": [
    "# Question 1:\n",
    "Create a class called \"Rectangle\" with attributes \"length\" and \"width\". Include a method called \"area\" that calculates and returns the area of the rectangle.\n",
    "\n",
    "Hints:\n",
    "\n",
    "Define the class \"Rectangle\" with the init() method to initialize the length and width attributes.\n",
    "Implement the \"area()\" method within the class to calculate the area using the formula: area = length * width."
   ]
  },
  {
   "cell_type": "code",
   "execution_count": 3,
   "id": "054d1a6c",
   "metadata": {},
   "outputs": [
    {
     "name": "stdout",
     "output_type": "stream",
     "text": [
      "20\n"
     ]
    }
   ],
   "source": [
    "class rectangle:\n",
    "    def __init__(self,length,width):\n",
    "        self.length = length\n",
    "        self.width = width\n",
    "    def area(self):\n",
    "        return self.length*self.width\n",
    "\n",
    "s = rectangle(5,4)\n",
    "v = s.area()\n",
    "print(v)    "
   ]
  },
  {
   "cell_type": "markdown",
   "id": "2688b298",
   "metadata": {},
   "source": [
    "# Question 2:\n",
    "Create a class called \"Circle\" with an attribute \"radius\". Include a method called \"circumference\" that calculates and returns the circumference of the circle.\n",
    "\n",
    "Hints:\n",
    "\n",
    "Define the class \"Circle\" with the init() method to initialize the radius attribute.\n",
    "Implement the \"circumference()\" method within the class to calculate the circumference using the formula: circumference = 2 * π * radius. You can use the value of π as 3.14159."
   ]
  },
  {
   "cell_type": "code",
   "execution_count": 5,
   "id": "3328ae76",
   "metadata": {},
   "outputs": [
    {
     "name": "stdout",
     "output_type": "stream",
     "text": [
      "31.416\n"
     ]
    }
   ],
   "source": [
    "class Circle:\n",
    "    def __init__(self,radius):\n",
    "        self.radius = radius\n",
    "      \n",
    "    def circumference(self):\n",
    "        return self.radius*2*3.1416\n",
    "\n",
    "s = Circle(5)\n",
    "v = s.circumference()\n",
    "print(v)    "
   ]
  },
  {
   "cell_type": "markdown",
   "id": "23472e06",
   "metadata": {},
   "source": [
    "# Question 3:\n",
    "Create a class called \"BankAccount\" with attributes \"account_number\" and \"balance\". Include methods called \"deposit\" and \"withdraw\" to update the balance accordingly. Also, include a method called \"get_balance\" that returns the current balance.\n",
    "\n",
    "Hints:\n",
    "\n",
    "Define the class \"BankAccount\" with the init() method to initialize the account_number and balance attributes.\n",
    "Implement the \"deposit(amount)\" method within the class to add the given amount to the balance.\n",
    "Implement the \"withdraw(amount)\" method within the class to subtract the given amount from the balance, but only if the balance is sufficient.\n",
    "Implement the \"get_balance()\" method within the class to return the current balance."
   ]
  },
  {
   "cell_type": "code",
   "execution_count": 13,
   "id": "26c57246",
   "metadata": {},
   "outputs": [
    {
     "name": "stdout",
     "output_type": "stream",
     "text": [
      "1000\n",
      "1500\n",
      "1300\n",
      "Insufficient Fund\n",
      "1300\n",
      "2000\n",
      "3000\n"
     ]
    }
   ],
   "source": [
    "class BankAccount:\n",
    "    def __init__(self,account_number,balance):\n",
    "        self.balance = balance\n",
    "        self.account_number = account_number\n",
    "      \n",
    "    def deposit(self,amount):\n",
    "        self.balance+=amount\n",
    "    def withdraw(self,amount):\n",
    "        if  self.balance>=amount:\n",
    "            self.balance-=amount\n",
    "        else:\n",
    "            print(\"Insufficient Fund\")\n",
    "    def get_balance(self):\n",
    "        return self.balance\n",
    "        \n",
    "        \n",
    "account = BankAccount(\"123456789\", 1000)  # Create an instance of BankAccount with account number and initial balance\n",
    "print(account.get_balance())  # Output: 1000\n",
    "\n",
    "account.deposit(500)  # Deposit 500 into the account\n",
    "print(account.get_balance())  # Output: 1500\n",
    "\n",
    "account.withdraw(200)  # Withdraw 200 from the account\n",
    "print(account.get_balance())  # Output: 1300\n",
    "\n",
    "account.withdraw(2000)  # Attempt to withdraw more than the balance\n",
    "print(account.get_balance())    \n",
    "acc2 = BankAccount(\"3456\",2000)\n",
    "print(acc2.get_balance()) \n",
    "acc3 = BankAccount(\"7456\",3000)\n",
    "print(acc3.get_balance()) "
   ]
  },
  {
   "cell_type": "markdown",
   "id": "90b99e31",
   "metadata": {},
   "source": [
    "# Question 4:\n",
    "Create a class called \"Student\" with attributes \"name\" and \"age\". Include a method called \"is_adult\" that returns True if the student is 18 years or older, and False otherwise.\n",
    "\n",
    "Hints:\n",
    "\n",
    "Define the class \"Student\" with the init() method to initialize the name and age attributes.\n",
    "Implement the \"is_adult()\" method within the class to check if the age is greater than or equal to 18. Return True or False accordingly."
   ]
  },
  {
   "cell_type": "code",
   "execution_count": 15,
   "id": "e9086c78",
   "metadata": {},
   "outputs": [
    {
     "name": "stdout",
     "output_type": "stream",
     "text": [
      "mugdho is not adult\n"
     ]
    }
   ],
   "source": [
    "class Student:\n",
    "    def __init__(self,name,age):\n",
    "        self.name = name\n",
    "        self.age = age\n",
    "      \n",
    "    \n",
    "    def is_adult(self):\n",
    "        if  self.age>=18:\n",
    "            print(self.name,\"is adult\")\n",
    "        else:\n",
    "            print(self.name,\"is not adult\")\n",
    "s =Student(\"mugdho\",10)\n",
    "s.is_adult()\n"
   ]
  },
  {
   "cell_type": "markdown",
   "id": "cec35433",
   "metadata": {},
   "source": [
    "# Question 5:\n",
    "Create a class called \"Car\" with attributes \"brand\" and \"mileage\". Include methods called \"drive(distance)\" to update the mileage and \"get_mileage\" to return the current mileage.\n",
    "\n",
    "Hints:\n",
    "\n",
    "Define the class \"Car\" with the init() method to initialize the brand and mileage attributes.\n",
    "Implement the \"drive(distance)\" method within the class to add the given distance to the mileage.\n",
    "Implement the \"get_mileage()\" method within the class to return the current mileage.\n",
    "Feel free to ask for further clarification or help with any specific question!"
   ]
  },
  {
   "cell_type": "code",
   "execution_count": 4,
   "id": "26925549",
   "metadata": {},
   "outputs": [
    {
     "name": "stdout",
     "output_type": "stream",
     "text": [
      "253\n"
     ]
    }
   ],
   "source": [
    "class Car:\n",
    "    def __init__(self,brand,mileage):\n",
    "        self.brand = brand\n",
    "        self.mileage = mileage\n",
    "      \n",
    "    def drive(self,distance):\n",
    "        self.mileage+=distance\n",
    "    \n",
    "    def get_mileage(self):\n",
    "        return self.mileage\n",
    "    \n",
    "s = Car(\"Tata\",230)\n",
    "v= s.drive(23)\n",
    "print(s.get_mileage())\n"
   ]
  },
  {
   "cell_type": "code",
   "execution_count": null,
   "id": "ba65ecaf",
   "metadata": {},
   "outputs": [],
   "source": []
  }
 ],
 "metadata": {
  "kernelspec": {
   "display_name": "Python 3 (ipykernel)",
   "language": "python",
   "name": "python3"
  },
  "language_info": {
   "codemirror_mode": {
    "name": "ipython",
    "version": 3
   },
   "file_extension": ".py",
   "mimetype": "text/x-python",
   "name": "python",
   "nbconvert_exporter": "python",
   "pygments_lexer": "ipython3",
   "version": "3.9.12"
  }
 },
 "nbformat": 4,
 "nbformat_minor": 5
}
