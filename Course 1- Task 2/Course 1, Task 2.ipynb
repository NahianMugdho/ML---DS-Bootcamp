{
 "cells": [
  {
   "cell_type": "markdown",
   "id": "77dbc36f",
   "metadata": {},
   "source": [
    "# Python Programming: Variable, I/O, and Loop."
   ]
  },
  {
   "cell_type": "markdown",
   "id": "50e1eaac",
   "metadata": {},
   "source": [
    "### Display float number with 2 decimal places using print()."
   ]
  },
  {
   "cell_type": "code",
   "execution_count": 14,
   "id": "756e2bf6",
   "metadata": {},
   "outputs": [
    {
     "name": "stdout",
     "output_type": "stream",
     "text": [
      "the value of x is 3.14\n"
     ]
    }
   ],
   "source": [
    "import math as m\n",
    "\n",
    "x = m.pi\n",
    "print(\"the value of x is\",round(x,2))"
   ]
  },
  {
   "cell_type": "markdown",
   "id": "28742878",
   "metadata": {},
   "source": [
    "### Accept a list of float numbers as input from the user and display that."
   ]
  },
  {
   "cell_type": "code",
   "execution_count": 19,
   "id": "f3031ea9",
   "metadata": {},
   "outputs": [
    {
     "name": "stdout",
     "output_type": "stream",
     "text": [
      "1.4 2.5 5.9\n",
      " list of float numbers [1.4, 2.5, 5.9]\n"
     ]
    }
   ],
   "source": [
    "def lin():\n",
    "    return list(map(float,input().split()))\n",
    "\n",
    "x = lin()\n",
    "print(' list of float numbers',x)\n",
    "\n",
    "\n",
    "\n",
    "\n"
   ]
  },
  {
   "cell_type": "markdown",
   "id": "b1b6a5c9",
   "metadata": {},
   "source": [
    "### Print the First n natural numbers using a while loop"
   ]
  },
  {
   "cell_type": "code",
   "execution_count": 24,
   "id": "f144dd22",
   "metadata": {},
   "outputs": [
    {
     "name": "stdout",
     "output_type": "stream",
     "text": [
      "Enter the range of natural number: 10\n",
      "First 10 natural numbers: \n",
      "1\n",
      "2\n",
      "3\n",
      "4\n",
      "5\n",
      "6\n",
      "7\n",
      "8\n",
      "9\n",
      "10\n"
     ]
    }
   ],
   "source": [
    "n=int(input(\"Enter the range of natural number: \"))\n",
    "i=0\n",
    "print('First',n,'natural numbers: ')\n",
    "while i<n:\n",
    "    i+=1\n",
    "    print(i)\n",
    "    "
   ]
  },
  {
   "cell_type": "markdown",
   "id": "cba8f239",
   "metadata": {},
   "source": [
    "### Display numbers from -n to -1 using for loop."
   ]
  },
  {
   "cell_type": "code",
   "execution_count": 26,
   "id": "8979e3a6",
   "metadata": {},
   "outputs": [
    {
     "name": "stdout",
     "output_type": "stream",
     "text": [
      "Enter the first value: 10\n",
      "-10\n",
      "-9\n",
      "-8\n",
      "-7\n",
      "-6\n",
      "-5\n",
      "-4\n",
      "-3\n",
      "-2\n",
      "-1\n"
     ]
    }
   ],
   "source": [
    "n=int(input(\"Enter the first value: \"))\n",
    "for i in range(-n-1,-1):\n",
    "    i+=1\n",
    "    print(i)"
   ]
  },
  {
   "cell_type": "markdown",
   "id": "9e75b32c",
   "metadata": {},
   "source": [
    "### Count the total number of digits in a number."
   ]
  },
  {
   "cell_type": "code",
   "execution_count": 28,
   "id": "bc2f288a",
   "metadata": {},
   "outputs": [
    {
     "name": "stdout",
     "output_type": "stream",
     "text": [
      "Enter the digit: 1234567890987654321\n",
      "The total number of digits is: 19\n"
     ]
    }
   ],
   "source": [
    "n = int(input(\"Enter the digit: \"))\n",
    "count = 0\n",
    "\n",
    "while n > 0:\n",
    "    count += 1\n",
    "    n //= 10\n",
    "\n",
    "print(\"The total number of digits is:\", count)"
   ]
  },
  {
   "cell_type": "markdown",
   "id": "93e74b9e",
   "metadata": {},
   "source": [
    "###  Find the factorial of a given number"
   ]
  },
  {
   "cell_type": "code",
   "execution_count": 34,
   "id": "6211aa31",
   "metadata": {},
   "outputs": [
    {
     "name": "stdout",
     "output_type": "stream",
     "text": [
      "Enter the number: 5\n",
      "factorial of 5 is 120\n"
     ]
    }
   ],
   "source": [
    "n = int(input(\"Enter the number: \"))\n",
    "i=1\n",
    "fact = 1\n",
    "while n>=i:\n",
    "    fact*=i\n",
    "    i=i+1\n",
    "print(\"factorial of\",n,'is',fact)"
   ]
  },
  {
   "cell_type": "markdown",
   "id": "48542c79",
   "metadata": {},
   "source": [
    "### Print this: \n",
    "### 1 \n",
    "### 1 2\n",
    "### 1 2 3 \n",
    "### 1 2 3 4 \n",
    "### 1 2 3 4 5\n"
   ]
  },
  {
   "cell_type": "code",
   "execution_count": 35,
   "id": "59034572",
   "metadata": {},
   "outputs": [
    {
     "name": "stdout",
     "output_type": "stream",
     "text": [
      "1 \n",
      "1 2 \n",
      "1 2 3 \n",
      "1 2 3 4 \n",
      "1 2 3 4 5 \n"
     ]
    }
   ],
   "source": [
    "for i in range(1, 6):\n",
    "    for j in range(1, i+1):\n",
    "        print(j, end=\" \")\n",
    "    print()"
   ]
  },
  {
   "cell_type": "code",
   "execution_count": null,
   "id": "3bd6d90b",
   "metadata": {},
   "outputs": [],
   "source": []
  }
 ],
 "metadata": {
  "kernelspec": {
   "display_name": "Python 3 (ipykernel)",
   "language": "python",
   "name": "python3"
  },
  "language_info": {
   "codemirror_mode": {
    "name": "ipython",
    "version": 3
   },
   "file_extension": ".py",
   "mimetype": "text/x-python",
   "name": "python",
   "nbconvert_exporter": "python",
   "pygments_lexer": "ipython3",
   "version": "3.9.12"
  }
 },
 "nbformat": 4,
 "nbformat_minor": 5
}
